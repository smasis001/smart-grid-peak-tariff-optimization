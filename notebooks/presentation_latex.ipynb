{
 "cells": [
  {
   "cell_type": "markdown",
   "metadata": {},
   "source": [
    "# First Iteration"
   ]
  },
  {
   "cell_type": "markdown",
   "metadata": {},
   "source": [
    "$g \\in \\{1, 2, 3\\}$ \n",
    "\n",
    "$t \\in \\{1,.., 365\\}$\n",
    "\n",
    "$p \\in \\{1,2,3,4,5\\}$ \n",
    "\n",
    "$s_{t,p} \\in T \\times P$\n",
    "\n",
    "$a \\in \\{-1, 0, 1\\}$ \n",
    "\n",
    "$r(a) = \\left\\{\\begin{array}\\\\\n",
    "     -55.44 & \\text{if a=1} \\\\\n",
    "     0 & \\text{if a=0} \\\\\n",
    "     7.77 & \\text{if a=-1}\n",
    "   \\end{array}\\right.$"
   ]
  },
  {
   "cell_type": "markdown",
   "metadata": {},
   "source": [
    "$\\delta_g \\in \\{0.31, 0.27, 0.42\\}$\n",
    "\n",
    "$v(s) = \\sum_{g \\in G} \\delta_g \\left(\\mathbb{P}\\left[A=-1|G=g, S_{t,p}=s\\right] - \\mathbb{P}\\left[A=1|G=g, S_{t,p}=s\\right]\\right)$\n",
    "\n",
    "$v_*(s) = \\underset{\\pi}{\\text{max}} v_{\\pi} (s) \\qquad \\forall s \\in \\mathbb{S}$\n",
    "\n",
    "$q_*(s, a) = \\underset{\\pi}{\\text{max}} q_{\\pi} (s, a) \\qquad \\forall s \\in \\mathbb{S}, \\forall a \\in A$\n",
    "\n",
    "$\\qquad\\quad = 𝔼\\left[R_{t+1} + \\gamma v_*(S_{t + 1, p}) | S_{t,p} = s, A = a\\right]$\n",
    "\n",
    "$\\qquad\\quad = \\sum_{s',r} p(s', r|s,a) \\left[r + \\gamma \\underset{a'}{\\text{max}} q_*(s',a') \\right]$\n",
    "\n",
    "$\\pi_*(s) = \\underset{a}{\\text{max}} q_* (s, a) \\qquad \\forall s \\in \\mathbb{S}$"
   ]
  },
  {
   "cell_type": "markdown",
   "metadata": {},
   "source": [
    "# Second Iteration"
   ]
  },
  {
   "cell_type": "markdown",
   "metadata": {},
   "source": [
    "$g \\in \\{1, 2, 3\\}$ \n",
    "\n",
    "$s_t \\in \\{1,.., 365\\}$\n",
    "\n",
    "$a_s \\in \\{1,2,3,4,5\\}$ \n",
    "\n",
    "$\\delta_g \\in \\{0.31, 0.27, 0.42\\}$\n",
    "\n",
    "$y \\in \\{-1, 0, 1\\}$"
   ]
  },
  {
   "cell_type": "markdown",
   "metadata": {},
   "source": [
    "$v(a,s) = \\sum_{g \\in G} \\delta_g \\left(\\mathbb{P}\\left[Y=-1|G=g, S_{t}=s\\right] - \\mathbb{P}\\left[Y=1|G=g, S_{t}=s\\right]\\right)$\n",
    "\n",
    "$v_*(s) = \\underset{\\pi}{\\text{max}} v_{\\pi} (s) \\qquad \\forall s \\in \\mathbb{S}$\n",
    "\n",
    "$r(s) = \\left\\{\\begin{array}\\\\\n",
    "     -55.44 & \\text{if }v_*(s) > 0.01 \\\\\n",
    "     7.77 & \\text{if }v_*(s) < -0.01 \\\\\n",
    "     0 & \\text{else}\n",
    "   \\end{array}\\right.$\n",
    "\n",
    "$q_*(s, a) = \\underset{\\pi}{\\text{max}} q_{\\pi} (s, a) \\qquad \\forall s \\in \\mathbb{S}, \\forall a \\in A$\n",
    "\n",
    "$\\qquad\\quad = 𝔼\\left[R_{t+1} + \\gamma v_*(S_{t + 1}) | S_{t} = s, A = a\\right]$\n",
    "\n",
    "$\\qquad\\quad = \\sum_{s',r} p(s', r|s,a) \\left[r + \\gamma \\underset{a'}{\\text{max}} q_*(s',a') \\right]$\n",
    "\n",
    "$\\pi_*(s) = \\underset{a}{\\text{max}} q_* (s, a) \\qquad \\forall s \\in \\mathbb{S}$"
   ]
  },
  {
   "cell_type": "code",
   "execution_count": null,
   "metadata": {},
   "outputs": [],
   "source": []
  },
  {
   "cell_type": "markdown",
   "metadata": {},
   "source": []
  },
  {
   "cell_type": "code",
   "execution_count": null,
   "metadata": {},
   "outputs": [],
   "source": []
  }
 ],
 "metadata": {
  "kernelspec": {
   "display_name": "Python 3",
   "language": "python",
   "name": "python3"
  },
  "language_info": {
   "codemirror_mode": {
    "name": "ipython",
    "version": 3
   },
   "file_extension": ".py",
   "mimetype": "text/x-python",
   "name": "python",
   "nbconvert_exporter": "python",
   "pygments_lexer": "ipython3",
   "version": "3.7.4"
  }
 },
 "nbformat": 4,
 "nbformat_minor": 4
}
