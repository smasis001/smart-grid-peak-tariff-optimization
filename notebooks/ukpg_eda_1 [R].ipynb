{
 "cells": [
  {
   "cell_type": "markdown",
   "metadata": {},
   "source": [
    "# Initial EDA\n",
    "#### Britain Power Generation (bw/ May 2011 - November 2019)"
   ]
  },
  {
   "cell_type": "markdown",
   "metadata": {},
   "source": [
    "## 1) Load Required Libraries"
   ]
  },
  {
   "cell_type": "code",
   "execution_count": 1,
   "metadata": {},
   "outputs": [
    {
     "name": "stderr",
     "output_type": "stream",
     "text": [
      "── Attaching packages ─────────────────────────────────────── tidyverse 1.2.1 ──\n",
      "✔ ggplot2 3.1.0       ✔ purrr   0.3.1  \n",
      "✔ tibble  2.0.1       ✔ dplyr   0.8.0.1\n",
      "✔ tidyr   0.8.3       ✔ stringr 1.4.0  \n",
      "✔ readr   1.1.1       ✔ forcats 0.3.0  \n",
      "Warning message:\n",
      "“package ‘tibble’ was built under R version 3.5.2”Warning message:\n",
      "“package ‘tidyr’ was built under R version 3.5.2”Warning message:\n",
      "“package ‘purrr’ was built under R version 3.5.2”Warning message:\n",
      "“package ‘dplyr’ was built under R version 3.5.2”Warning message:\n",
      "“package ‘stringr’ was built under R version 3.5.2”── Conflicts ────────────────────────────────────────── tidyverse_conflicts() ──\n",
      "✖ dplyr::filter() masks stats::filter()\n",
      "✖ dplyr::lag()    masks stats::lag()\n",
      "\n",
      "Attaching package: ‘lubridate’\n",
      "\n",
      "The following object is masked from ‘package:base’:\n",
      "\n",
      "    date\n",
      "\n",
      "Warning message:\n",
      "“package ‘janitor’ was built under R version 3.5.2”\n",
      "Attaching package: ‘janitor’\n",
      "\n",
      "The following objects are masked from ‘package:stats’:\n",
      "\n",
      "    chisq.test, fisher.test\n",
      "\n"
     ]
    }
   ],
   "source": [
    "library(\"tidyverse\")\n",
    "library(\"lubridate\")\n",
    "library(\"janitor\")"
   ]
  },
  {
   "cell_type": "markdown",
   "metadata": {},
   "source": [
    "## 2) Load Data"
   ]
  },
  {
   "cell_type": "code",
   "execution_count": 2,
   "metadata": {},
   "outputs": [
    {
     "name": "stdout",
     "output_type": "stream",
     "text": [
      "Observations: 891,922\n",
      "Variables: 22\n",
      "$ id               <int> 4, 5, 6, 7, 8, 9, 10, 11, 12, 13, 14, 15, 16, 17, 18…\n",
      "$ timestamp        <dttm> 2011-05-27 15:50:04, 2011-05-27 15:55:02, 2011-05-2…\n",
      "$ demand           <int> 38874, 38845, 38745, 38826, 38865, 38881, 38876, 389…\n",
      "$ frequency        <dbl> 50.132, 50.091, 50.034, 49.990, 50.017, 50.092, 50.0…\n",
      "$ coal             <int> 9316, 9294, 9270, 9262, 9256, 9284, 9243, 9250, 9187…\n",
      "$ nuclear          <int> 8221, 8225, 8224, 8220, 8210, 8198, 8203, 8202, 8199…\n",
      "$ ccgt             <int> 18239, 18158, 18110, 18114, 18107, 18074, 18060, 180…\n",
      "$ wind             <int> 1253, 1304, 1322, 1364, 1370, 1397, 1451, 1490, 1529…\n",
      "$ pumped           <int> 309, 332, 285, 287, 297, 293, 285, 287, 289, 290, 28…\n",
      "$ hydro            <int> 636, 633, 634, 635, 637, 637, 635, 635, 636, 634, 63…\n",
      "$ biomass          <int> 0, 0, 0, 0, 0, 0, 0, 0, 0, 0, 0, 0, 0, 0, 0, 0, 0, 0…\n",
      "$ oil              <int> 0, 0, 0, 0, 0, 0, 0, 0, 0, 0, 0, 0, 0, 0, 0, 0, 0, 0…\n",
      "$ solar            <dbl> 0, 0, 0, 0, 0, 0, 0, 0, 0, 0, 0, 0, 0, 0, 0, 0, 0, 0…\n",
      "$ ocgt             <int> 0, 0, 0, 0, 0, 0, 0, 0, 0, 0, 0, 0, 0, 0, 0, 0, 0, 0…\n",
      "$ french_ict       <int> 912, 912, 912, 900, 900, 900, 900, 900, 900, 996, 99…\n",
      "$ dutch_ict        <dbl> 0, 0, 0, 0, 0, 0, 0, 0, 0, 0, 0, 0, 0, 0, 0, 0, 0, 0…\n",
      "$ irish_ict        <int> -414, -414, -414, -414, -414, -414, -414, -414, -414…\n",
      "$ ew_ict           <dbl> 0, 0, 0, 0, 0, 0, 0, 0, 0, 0, 0, 0, 0, 0, 0, 0, 0, 0…\n",
      "$ nemo             <int> 0, 0, 0, 0, 0, 0, 0, 0, 0, 0, 0, 0, 0, 0, 0, 0, 0, 0…\n",
      "$ other            <int> 0, 0, 0, 0, 0, 0, 0, 0, 0, 0, 0, 0, 0, 0, 0, 0, 0, 0…\n",
      "$ north_south      <int> 0, 0, 0, 0, 0, 0, 0, 0, 0, 0, 0, 0, 0, 0, 0, 0, 0, 0…\n",
      "$ scotland_england <int> 0, 0, 0, 0, 0, 0, 0, 0, 0, 0, 0, 0, 0, 0, 0, 0, 0, 0…\n"
     ]
    }
   ],
   "source": [
    "bp_generation_df <- read.csv(file=\"data/gridwatch2.csv\", header=TRUE, sep=\",\")\n",
    "bp_generation_df$timestamp <- ymd_hms(as.character(bp_generation_df$timestamp))\n",
    "glimpse(bp_generation_df)"
   ]
  },
  {
   "cell_type": "markdown",
   "metadata": {},
   "source": [
    "## 3) Feature Engineering"
   ]
  },
  {
   "cell_type": "markdown",
   "metadata": {},
   "source": [
    "### 3.1) Create Power Supply Features"
   ]
  },
  {
   "cell_type": "markdown",
   "metadata": {},
   "source": [
    "**Add Up All Renewable Supply**"
   ]
  },
  {
   "cell_type": "code",
   "execution_count": 11,
   "metadata": {},
   "outputs": [],
   "source": [
    "bp_generation_df$renewables <- bp_generation_df$wind + bp_generation_df$pumped + bp_generation_df$pumped + bp_generation_df$hydro + bp_generation_df$biomass + bp_generation_df$solar + bp_generation_df$nemo + bp_generation_df$dutch_ict"
   ]
  },
  {
   "cell_type": "markdown",
   "metadata": {},
   "source": [
    "**Add Up All Fossil Fuel Supply**"
   ]
  },
  {
   "cell_type": "code",
   "execution_count": 12,
   "metadata": {},
   "outputs": [],
   "source": [
    "bp_generation_df$fossils <- bp_generation_df$coal + bp_generation_df$ccgt + bp_generation_df$oil + bp_generation_df$irish_ict #+ bp_generation_df$ew_ict"
   ]
  },
  {
   "cell_type": "markdown",
   "metadata": {},
   "source": [
    "**Add Up All Nuclear Supply** "
   ]
  },
  {
   "cell_type": "code",
   "execution_count": 13,
   "metadata": {},
   "outputs": [],
   "source": [
    "bp_generation_df$nuclears <- bp_generation_df$nuclear + bp_generation_df$french_ict"
   ]
  },
  {
   "cell_type": "markdown",
   "metadata": {},
   "source": [
    "**Add Up All Supply** "
   ]
  },
  {
   "cell_type": "code",
   "execution_count": 14,
   "metadata": {},
   "outputs": [],
   "source": [
    "bp_generation_df$supply <- bp_generation_df$renewables + bp_generation_df$fossils + bp_generation_df$nuclears"
   ]
  },
  {
   "cell_type": "markdown",
   "metadata": {},
   "source": [
    "**Makes Sure Supply Meets Demand**"
   ]
  },
  {
   "cell_type": "code",
   "execution_count": 19,
   "metadata": {},
   "outputs": [
    {
     "data": {
      "text/html": [
       "101.120279349421"
      ],
      "text/latex": [
       "101.120279349421"
      ],
      "text/markdown": [
       "101.120279349421"
      ],
      "text/plain": [
       "[1] 101.1203"
      ]
     },
     "metadata": {},
     "output_type": "display_data"
    }
   ],
   "source": [
    "(sum(bp_generation_df$supply)/sum(bp_generation_df$demand))*100"
   ]
  },
  {
   "cell_type": "markdown",
   "metadata": {},
   "source": [
    "### 3.2) Create Date Features"
   ]
  },
  {
   "cell_type": "markdown",
   "metadata": {},
   "source": [
    "**Floor Date to Half Hour**"
   ]
  },
  {
   "cell_type": "code",
   "execution_count": 27,
   "metadata": {},
   "outputs": [],
   "source": [
    "bp_generation_df$DateTime <- bp_generation_df$timestamp\n",
    "minute(bp_generation_df$DateTime) <- floor(minute(bp_generation_df$DateTime)/30)*30\n",
    "second(bp_generation_df$DateTime) <- 0"
   ]
  },
  {
   "cell_type": "markdown",
   "metadata": {},
   "source": [
    "**Hour Of Day**"
   ]
  },
  {
   "cell_type": "code",
   "execution_count": 28,
   "metadata": {},
   "outputs": [],
   "source": [
    "bp_generation_df$DateTime_hour <- hour(bp_generation_df$DateTime) + (minute(bp_generation_df$DateTime)/60)"
   ]
  },
  {
   "cell_type": "markdown",
   "metadata": {},
   "source": [
    "**Month**"
   ]
  },
  {
   "cell_type": "code",
   "execution_count": 29,
   "metadata": {},
   "outputs": [],
   "source": [
    "bp_generation_df$DateTime_month <- month(bp_generation_df$DateTime) "
   ]
  },
  {
   "cell_type": "markdown",
   "metadata": {},
   "source": [
    "**Weekday**"
   ]
  },
  {
   "cell_type": "code",
   "execution_count": 30,
   "metadata": {},
   "outputs": [],
   "source": [
    "bp_generation_df$DateTime_wday <- wday(bp_generation_df$DateTime, week_start = getOption(\"lubridate.week.start\", 1)) #Start on Monday"
   ]
  },
  {
   "cell_type": "markdown",
   "metadata": {},
   "source": [
    "**Yearday**"
   ]
  },
  {
   "cell_type": "code",
   "execution_count": 31,
   "metadata": {},
   "outputs": [],
   "source": [
    "bp_generation_df$DateTime_yday <- yday(bp_generation_df$DateTime)"
   ]
  },
  {
   "cell_type": "markdown",
   "metadata": {},
   "source": [
    "**Year**"
   ]
  },
  {
   "cell_type": "code",
   "execution_count": 32,
   "metadata": {},
   "outputs": [],
   "source": [
    "bp_generation_df$DateTime_year <- year(bp_generation_df$DateTime) "
   ]
  },
  {
   "cell_type": "markdown",
   "metadata": {},
   "source": [
    "**Check it out**"
   ]
  },
  {
   "cell_type": "code",
   "execution_count": 33,
   "metadata": {},
   "outputs": [
    {
     "name": "stdout",
     "output_type": "stream",
     "text": [
      "Observations: 891,922\n",
      "Variables: 32\n",
      "$ id               <int> 4, 5, 6, 7, 8, 9, 10, 11, 12, 13, 14, 15, 16, 17, 18…\n",
      "$ timestamp        <dttm> 2011-05-27 15:50:04, 2011-05-27 15:55:02, 2011-05-2…\n",
      "$ demand           <int> 38874, 38845, 38745, 38826, 38865, 38881, 38876, 389…\n",
      "$ frequency        <dbl> 50.132, 50.091, 50.034, 49.990, 50.017, 50.092, 50.0…\n",
      "$ coal             <int> 9316, 9294, 9270, 9262, 9256, 9284, 9243, 9250, 9187…\n",
      "$ nuclear          <int> 8221, 8225, 8224, 8220, 8210, 8198, 8203, 8202, 8199…\n",
      "$ ccgt             <int> 18239, 18158, 18110, 18114, 18107, 18074, 18060, 180…\n",
      "$ wind             <int> 1253, 1304, 1322, 1364, 1370, 1397, 1451, 1490, 1529…\n",
      "$ pumped           <int> 309, 332, 285, 287, 297, 293, 285, 287, 289, 290, 28…\n",
      "$ hydro            <int> 636, 633, 634, 635, 637, 637, 635, 635, 636, 634, 63…\n",
      "$ biomass          <int> 0, 0, 0, 0, 0, 0, 0, 0, 0, 0, 0, 0, 0, 0, 0, 0, 0, 0…\n",
      "$ oil              <int> 0, 0, 0, 0, 0, 0, 0, 0, 0, 0, 0, 0, 0, 0, 0, 0, 0, 0…\n",
      "$ solar            <dbl> 0, 0, 0, 0, 0, 0, 0, 0, 0, 0, 0, 0, 0, 0, 0, 0, 0, 0…\n",
      "$ ocgt             <int> 0, 0, 0, 0, 0, 0, 0, 0, 0, 0, 0, 0, 0, 0, 0, 0, 0, 0…\n",
      "$ french_ict       <int> 912, 912, 912, 900, 900, 900, 900, 900, 900, 996, 99…\n",
      "$ dutch_ict        <dbl> 0, 0, 0, 0, 0, 0, 0, 0, 0, 0, 0, 0, 0, 0, 0, 0, 0, 0…\n",
      "$ irish_ict        <int> -414, -414, -414, -414, -414, -414, -414, -414, -414…\n",
      "$ ew_ict           <dbl> 0, 0, 0, 0, 0, 0, 0, 0, 0, 0, 0, 0, 0, 0, 0, 0, 0, 0…\n",
      "$ nemo             <int> 0, 0, 0, 0, 0, 0, 0, 0, 0, 0, 0, 0, 0, 0, 0, 0, 0, 0…\n",
      "$ other            <int> 0, 0, 0, 0, 0, 0, 0, 0, 0, 0, 0, 0, 0, 0, 0, 0, 0, 0…\n",
      "$ north_south      <int> 0, 0, 0, 0, 0, 0, 0, 0, 0, 0, 0, 0, 0, 0, 0, 0, 0, 0…\n",
      "$ scotland_england <int> 0, 0, 0, 0, 0, 0, 0, 0, 0, 0, 0, 0, 0, 0, 0, 0, 0, 0…\n",
      "$ renewables       <dbl> 2507, 2601, 2526, 2573, 2601, 2620, 2656, 2699, 2743…\n",
      "$ fossils          <int> 27141, 27038, 26966, 26962, 26949, 26944, 26889, 268…\n",
      "$ nuclears         <int> 9133, 9137, 9136, 9120, 9110, 9098, 9103, 9102, 9099…\n",
      "$ supply           <dbl> 38781, 38776, 38628, 38655, 38660, 38662, 38648, 386…\n",
      "$ DateTime         <dttm> 2011-05-27 15:30:00, 2011-05-27 15:30:00, 2011-05-2…\n",
      "$ DateTime_hour    <dbl> 15.5, 15.5, 16.0, 16.0, 16.0, 16.0, 16.0, 16.0, 16.5…\n",
      "$ DateTime_month   <dbl> 5, 5, 5, 5, 5, 5, 5, 5, 5, 5, 5, 5, 5, 5, 5, 5, 5, 5…\n",
      "$ DateTime_wday    <dbl> 5, 5, 5, 5, 5, 5, 5, 5, 5, 5, 5, 5, 5, 5, 5, 5, 5, 5…\n",
      "$ DateTime_yday    <dbl> 147, 147, 147, 147, 147, 147, 147, 147, 147, 147, 14…\n",
      "$ DateTime_year    <dbl> 2011, 2011, 2011, 2011, 2011, 2011, 2011, 2011, 2011…\n"
     ]
    }
   ],
   "source": [
    "glimpse(bp_generation_df)"
   ]
  },
  {
   "cell_type": "markdown",
   "metadata": {},
   "source": [
    "## 4) Generate Dataset Aggregated By Half Hour"
   ]
  },
  {
   "cell_type": "code",
   "execution_count": 49,
   "metadata": {},
   "outputs": [],
   "source": [
    "bp_generation_hh_df <- bp_generation_df %>% \n",
    "                    group_by(DateTime, DateTime_year, DateTime_yday, DateTime_month, DateTime_wday, DateTime_hour) %>%\n",
    "                    summarise(demand=sum(demand), renewables=sum(renewables), fossils=sum(fossils), nuclears=sum(nuclears), supply=sum(supply))    "
   ]
  },
  {
   "cell_type": "code",
   "execution_count": 50,
   "metadata": {},
   "outputs": [],
   "source": [
    "write.csv(bp_generation_hh_df,  \"./data/bp_generation_hh_df.csv\")"
   ]
  },
  {
   "cell_type": "code",
   "execution_count": 51,
   "metadata": {},
   "outputs": [
    {
     "data": {
      "text/plain": [
       "   Min. 1st Qu.  Median    Mean 3rd Qu.    Max. \n",
       "   5722  166664  196411  200367  231260  753999 "
      ]
     },
     "metadata": {},
     "output_type": "display_data"
    }
   ],
   "source": [
    "summary(bp_generation_hh_df$demand)"
   ]
  },
  {
   "cell_type": "code",
   "execution_count": 57,
   "metadata": {},
   "outputs": [],
   "source": [
    "bp_nonrenewables_daily_df <- bp_generation_hh_df %>% filter(DateTime_year == 2013) %>% group_by(DateTime_yday) %>% \n",
    "    summarise(nonrenewable_forecast=(sum(fossils)/12000000)+(sum(nuclears)/12000000)) %>% rename(day=DateTime_yday)"
   ]
  },
  {
   "cell_type": "code",
   "execution_count": 58,
   "metadata": {},
   "outputs": [],
   "source": [
    "write.csv(bp_nonrenewables_daily_df,  \"./data/bp_nonrenewables_daily_df.csv\")"
   ]
  },
  {
   "cell_type": "code",
   "execution_count": null,
   "metadata": {},
   "outputs": [],
   "source": []
  },
  {
   "cell_type": "code",
   "execution_count": null,
   "metadata": {},
   "outputs": [],
   "source": []
  }
 ],
 "metadata": {
  "kernelspec": {
   "display_name": "R",
   "language": "R",
   "name": "ir"
  },
  "language_info": {
   "codemirror_mode": "r",
   "file_extension": ".r",
   "mimetype": "text/x-r-source",
   "name": "R",
   "pygments_lexer": "r",
   "version": "3.5.1"
  }
 },
 "nbformat": 4,
 "nbformat_minor": 4
}
