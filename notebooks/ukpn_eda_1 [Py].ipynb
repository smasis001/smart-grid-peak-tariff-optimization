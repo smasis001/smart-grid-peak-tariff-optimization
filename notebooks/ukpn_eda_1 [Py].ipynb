{
 "cells": [
  {
   "cell_type": "markdown",
   "metadata": {},
   "source": [
    "# Initial EDA\n",
    "#### UK Power Networks (November 2011 and February 2014)"
   ]
  },
  {
   "cell_type": "markdown",
   "metadata": {},
   "source": [
    "## 1) Load Required Libraries"
   ]
  },
  {
   "cell_type": "code",
   "execution_count": 1,
   "metadata": {},
   "outputs": [],
   "source": [
    "import sys, os\n",
    "import pandas as pd\n",
    "import numpy as np\n",
    "import matplotlib.pyplot as plt"
   ]
  },
  {
   "cell_type": "markdown",
   "metadata": {},
   "source": [
    "## 2) Load Data"
   ]
  },
  {
   "cell_type": "code",
   "execution_count": 6,
   "metadata": {},
   "outputs": [
    {
     "data": {
      "text/html": [
       "<div>\n",
       "<style scoped>\n",
       "    .dataframe tbody tr th:only-of-type {\n",
       "        vertical-align: middle;\n",
       "    }\n",
       "\n",
       "    .dataframe tbody tr th {\n",
       "        vertical-align: top;\n",
       "    }\n",
       "\n",
       "    .dataframe thead th {\n",
       "        text-align: right;\n",
       "    }\n",
       "</style>\n",
       "<table border=\"1\" class=\"dataframe\">\n",
       "  <thead>\n",
       "    <tr style=\"text-align: right;\">\n",
       "      <th></th>\n",
       "      <th>LCLid</th>\n",
       "      <th>stdorToU</th>\n",
       "      <th>DateTime</th>\n",
       "      <th>KWH/hh (per half hour)</th>\n",
       "      <th>Acorn</th>\n",
       "      <th>Acorn_grouped</th>\n",
       "    </tr>\n",
       "  </thead>\n",
       "  <tbody>\n",
       "    <tr>\n",
       "      <th>0</th>\n",
       "      <td>MAC003718</td>\n",
       "      <td>Std</td>\n",
       "      <td>17/10/2012 13:00:00</td>\n",
       "      <td>0.09</td>\n",
       "      <td>ACORN-A</td>\n",
       "      <td>Affluent</td>\n",
       "    </tr>\n",
       "    <tr>\n",
       "      <th>1</th>\n",
       "      <td>MAC003718</td>\n",
       "      <td>Std</td>\n",
       "      <td>17/10/2012 13:30:00</td>\n",
       "      <td>0.16</td>\n",
       "      <td>ACORN-A</td>\n",
       "      <td>Affluent</td>\n",
       "    </tr>\n",
       "    <tr>\n",
       "      <th>2</th>\n",
       "      <td>MAC003718</td>\n",
       "      <td>Std</td>\n",
       "      <td>17/10/2012 14:00:00</td>\n",
       "      <td>0.212</td>\n",
       "      <td>ACORN-A</td>\n",
       "      <td>Affluent</td>\n",
       "    </tr>\n",
       "    <tr>\n",
       "      <th>3</th>\n",
       "      <td>MAC003718</td>\n",
       "      <td>Std</td>\n",
       "      <td>17/10/2012 14:30:00</td>\n",
       "      <td>0.145</td>\n",
       "      <td>ACORN-A</td>\n",
       "      <td>Affluent</td>\n",
       "    </tr>\n",
       "    <tr>\n",
       "      <th>4</th>\n",
       "      <td>MAC003718</td>\n",
       "      <td>Std</td>\n",
       "      <td>17/10/2012 15:00:00</td>\n",
       "      <td>0.104</td>\n",
       "      <td>ACORN-A</td>\n",
       "      <td>Affluent</td>\n",
       "    </tr>\n",
       "  </tbody>\n",
       "</table>\n",
       "</div>"
      ],
      "text/plain": [
       "       LCLid stdorToU             DateTime KWH/hh (per half hour)     Acorn  \\\n",
       "0  MAC003718      Std  17/10/2012 13:00:00                    0.09  ACORN-A   \n",
       "1  MAC003718      Std  17/10/2012 13:30:00                    0.16  ACORN-A   \n",
       "2  MAC003718      Std  17/10/2012 14:00:00                   0.212  ACORN-A   \n",
       "3  MAC003718      Std  17/10/2012 14:30:00                   0.145  ACORN-A   \n",
       "4  MAC003718      Std  17/10/2012 15:00:00                   0.104  ACORN-A   \n",
       "\n",
       "  Acorn_grouped  \n",
       "0      Affluent  \n",
       "1      Affluent  \n",
       "2      Affluent  \n",
       "3      Affluent  \n",
       "4      Affluent  "
      ]
     },
     "execution_count": 6,
     "metadata": {},
     "output_type": "execute_result"
    }
   ],
   "source": [
    "ukpw_consumption_df = pd.read_csv(\"./data/UKPN-LCL-smartmeter-sample.csv\", \n",
    "                                  dtype = {\"LCLid\" : \"object\", \n",
    "                                          \"stdorToU\": \"category\",\n",
    "                                          \"DateTime\": \"object\",\n",
    "                                          \"KWH/hh (per half hour)\": \"float64\",\n",
    "                                          \"Acorn\": \"category\",\n",
    "                                          \"Acorn_grouped\": \"category\"})\n",
    "ukpw_consumption_df.DateTime = pd.to_datetime(ukpw_consumption_df.DateTime,infer_datetime_format=True)\n",
    "ukpw_consumption_df.head()"
   ]
  },
  {
   "cell_type": "code",
   "execution_count": 9,
   "metadata": {},
   "outputs": [
    {
     "data": {
      "text/plain": [
       "LCLid                              object\n",
       "stdorToU                         category\n",
       "DateTime                   datetime64[ns]\n",
       "KWH/hh (per half hour)             object\n",
       "Acorn                            category\n",
       "Acorn_grouped                    category\n",
       "dtype: object"
      ]
     },
     "execution_count": 9,
     "metadata": {},
     "output_type": "execute_result"
    }
   ],
   "source": [
    "ukpw_consumption_df.dtypes"
   ]
  },
  {
   "cell_type": "code",
   "execution_count": null,
   "metadata": {},
   "outputs": [],
   "source": []
  },
  {
   "cell_type": "code",
   "execution_count": null,
   "metadata": {},
   "outputs": [],
   "source": []
  },
  {
   "cell_type": "code",
   "execution_count": null,
   "metadata": {},
   "outputs": [],
   "source": []
  }
 ],
 "metadata": {
  "kernelspec": {
   "display_name": "Python 3",
   "language": "python",
   "name": "python3"
  },
  "language_info": {
   "codemirror_mode": {
    "name": "ipython",
    "version": 3
   },
   "file_extension": ".py",
   "mimetype": "text/x-python",
   "name": "python",
   "nbconvert_exporter": "python",
   "pygments_lexer": "ipython3",
   "version": "3.7.4"
  }
 },
 "nbformat": 4,
 "nbformat_minor": 4
}
