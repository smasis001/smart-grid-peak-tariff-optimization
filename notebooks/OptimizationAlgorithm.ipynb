{
  "nbformat": 4,
  "nbformat_minor": 0,
  "metadata": {
    "kernelspec": {
      "name": "python3",
      "display_name": "Python 3"
    },
    "language_info": {
      "codemirror_mode": {
        "name": "ipython",
        "version": 3
      },
      "file_extension": ".py",
      "mimetype": "text/x-python",
      "name": "python",
      "nbconvert_exporter": "python",
      "pygments_lexer": "ipython3",
      "version": "3.6.5"
    },
    "colab": {
      "name": "Project.ipynb",
      "provenance": [],
      "collapsed_sections": []
    },
    "accelerator": "GPU"
  },
  "cells": [
    {
      "cell_type": "code",
      "metadata": {
        "id": "j_xiDsBIHil3",
        "colab_type": "code",
        "colab": {}
      },
      "source": [
        "# Smart Grid Peak Tariff Optimization Problem\n",
        "# Author: Himanshu Mishra & Serg Masis\n",
        "# Version: 1.0 (30.10.2019)\n",
        "# License: MIT\n",
        "# Notes: tested on Mac OS X with Python 3.6 and Tensorflow 1.3.0"
      ],
      "execution_count": 0,
      "outputs": []
    },
    {
      "cell_type": "markdown",
      "metadata": {
        "id": "QQny2FWJHil_",
        "colab_type": "text"
      },
      "source": [
        "# Smart Grid Peak Tariff Optimization Problem"
      ]
    },
    {
      "cell_type": "markdown",
      "metadata": {
        "id": "d_LkacKBHimB",
        "colab_type": "text"
      },
      "source": [
        "### Import some libraries"
      ]
    },
    {
      "cell_type": "code",
      "metadata": {
        "id": "khv8qYsAHimB",
        "colab_type": "code",
        "colab": {}
      },
      "source": [
        "import numpy as np\n",
        "import matplotlib\n",
        "import math\n",
        "matplotlib.use('Agg')\n",
        "import matplotlib.pyplot as plt \n",
        "%matplotlib inline\n",
        "\n",
        "#Tqdm is used to show nice progress bars while the RL agent is going through its learning process.\n",
        "from tqdm import tqdm \n",
        "\n",
        "#To ignore warnings that are annoying.\n",
        "import warnings\n",
        "warnings.filterwarnings('ignore')"
      ],
      "execution_count": 0,
      "outputs": []
    },
    {
      "cell_type": "markdown",
      "metadata": {
        "id": "M2qjFtbNHimE",
        "colab_type": "text"
      },
      "source": [
        "## Set Up"
      ]
    },
    {
      "cell_type": "markdown",
      "metadata": {
        "id": "nMLRs2LjHimE",
        "colab_type": "text"
      },
      "source": [
        "We assume $N=3$ values of possible states in the teriff plan, and assume $T=365$ time steps. All combinations of state and time can then be represented as a two-dimensional grid of size $N\\times T = 3\\times 365$. A time dependent action value function $Q_t\\left( s_t, a_t\\right)$ with three possible actions, $a_t = \\{a_{\\text{normal_high}}, a_{\\text{normal_low}}, a_{\\text{high_high}}, a_{\\text{high_low}}, a_{\\text{normal}}\\}$, can then be stored as a rank three tensor of dimension $3\\times 365 \\times 5$."
      ]
    },
    {
      "cell_type": "markdown",
      "metadata": {
        "id": "TRiKwqnzHimF",
        "colab_type": "text"
      },
      "source": [
        "#### Setting up some global parameters"
      ]
    },
    {
      "cell_type": "code",
      "metadata": {
        "id": "AtoAtwCJHimG",
        "colab_type": "code",
        "colab": {}
      },
      "source": [
        "# N - World height\n",
        "# T - World width\n",
        "WORLD_HEIGHT = 3 #Outcome\n",
        "WORLD_WIDTH = 365 #Timestep"
      ],
      "execution_count": 0,
      "outputs": []
    },
    {
      "cell_type": "code",
      "metadata": {
        "id": "jTy7PHQfHimI",
        "colab_type": "code",
        "colab": {}
      },
      "source": [
        "# Probability for exploration - epsilon\n",
        "EPSILON = 0.1\n",
        "# Step size\n",
        "ALPHA = 0.001\n",
        "# Gamma - discount factor - for Q-Learning, Sarsa and Expected Sarsa\n",
        "GAMMA = 1"
      ],
      "execution_count": 0,
      "outputs": []
    },
    {
      "cell_type": "code",
      "metadata": {
        "id": "WSU5FMp9HimK",
        "colab_type": "code",
        "colab": {}
      },
      "source": [
        "# Actions - ACTION_INCREASE is a+ (changing the state to High Teriff), ACTION_DECREASE is a-(changing the state to Low Teriff ), \n",
        "# ACTION_NORMAL is a_n (changing the state to High Teriff Normal) and ACTION_NORMAL is a_c (keeping the action same)\n",
        "ACTION_NORMAL_HIGH = 1\n",
        "ACTION_NORMAL_LOW = 2\n",
        "ACTION_HIGH_HIGH = 3\n",
        "ACTION_HIGH_LOW = 4\n",
        "ACTION_NORMAL = 0\n",
        "ACTIONS = [ACTION_NORMAL, ACTION_NORMAL_HIGH, ACTION_NORMAL_LOW, ACTION_HIGH_HIGH, ACTION_HIGH_LOW, ACTION_NORMAL]"
      ],
      "execution_count": 0,
      "outputs": []
    },
    {
      "cell_type": "code",
      "metadata": {
        "id": "HxRM3pDx9Wmu",
        "colab_type": "code",
        "colab": {}
      },
      "source": [
        "OUTCOME_ON_TARGET = 0\n",
        "OUTCOME_BELOW_TARGET = 1\n",
        "OUTCOME_ABOVE_TARGET = 2\n",
        "OUTCOMES = [OUTCOME_ON_TARGET, OUTCOME_BELOW_TARGET, OUTCOME_ABOVE_TARGET]"
      ],
      "execution_count": 0,
      "outputs": []
    },
    {
      "cell_type": "code",
      "metadata": {
        "id": "1PqZyvCAHimM",
        "colab_type": "code",
        "colab": {}
      },
      "source": [
        "# Initial and Goal states\n",
        "START = [0, 0]\n",
        "GOAL = [0, WORLD_WIDTH-1]"
      ],
      "execution_count": 0,
      "outputs": []
    },
    {
      "cell_type": "code",
      "metadata": {
        "id": "hRcdAXF2NTHD",
        "colab_type": "code",
        "colab": {}
      },
      "source": [
        "Yhat = np.array([0.65297133, 0.82016883, 0.82536817, 0.82404125, 0.74340858,\n",
        "       0.7504175 , 0.87447417, 0.87102508, 0.91692508, 0.98034925,\n",
        "       0.96322383, 0.84697525, 0.83656625, 1.00987717, 1.07333258,\n",
        "       1.06141483, 1.02909792, 0.93805308, 0.88046767, 0.87288767,\n",
        "       0.93864892, 1.01303008, 1.0437205 , 1.03290592, 0.90761042,\n",
        "       0.81071767, 0.716652  , 0.86293842, 0.84405567, 0.82409892,\n",
        "       0.84724292, 0.89270142, 0.60150917, 0.75992558, 0.813392  ,\n",
        "       0.84773133, 0.87079942, 0.95465825, 0.94436533, 0.89073867,\n",
        "       0.7964505 , 0.94012217, 1.00120592, 0.97547983, 0.92525775,\n",
        "       0.92398658, 0.830184  , 0.78101483, 0.9176275 , 0.94888075,\n",
        "       0.906498  , 0.936746  , 0.97941   , 0.89535308, 0.85149617,\n",
        "       0.96652475, 0.98847142, 0.97427425, 0.96749442, 0.94183242,\n",
        "       0.85277708, 0.79917175, 0.91399733, 0.9289505 , 0.90229592,\n",
        "       0.86963667, 0.84246467, 0.77717683, 0.73809792, 0.91326242,\n",
        "       0.97580867, 0.93970658, 0.96186167, 0.8871825 , 0.80993992,\n",
        "       0.81188017, 0.89746033, 0.91240475, 0.93312292, 0.90912275,\n",
        "       0.84144175, 0.77846025, 0.75558325, 0.89775917, 0.91052825,\n",
        "       0.96470267, 0.94323208, 0.85712508, 0.81737325, 0.76899108,\n",
        "       0.75864058, 0.86658417, 0.7218025 , 0.88690342, 0.86851033,\n",
        "       0.8094075 , 0.7796325 , 0.84017008, 0.87657267, 0.88748975,\n",
        "       0.87938717, 0.85492333, 0.73211667, 0.61694367, 0.73465642,\n",
        "       0.72605533, 0.75354142, 0.70602267, 0.7788295 , 0.67214558,\n",
        "       0.67461858, 0.70931517, 0.74665667, 0.77124425, 0.79691558,\n",
        "       0.75977608, 0.69446717, 0.6386365 , 0.7146795 , 0.77651217,\n",
        "       0.76208158, 0.76286375, 0.70620433, 0.59508475, 0.584423  ,\n",
        "       0.643462  , 0.74181983, 0.70945133, 0.68279667, 0.68279092,\n",
        "       0.60584425, 0.59721125, 0.66151333, 0.74856325, 0.75472492,\n",
        "       0.79378025, 0.76026625, 0.67092433, 0.66632508, 0.74963958,\n",
        "       0.74712942, 0.71599725, 0.7044895 , 0.72693567, 0.65389442,\n",
        "       0.60013667, 0.59893867, 0.75089392, 0.75606458, 0.75330833,\n",
        "       0.71222167, 0.62897517, 0.61558642, 0.73243792, 0.69077792,\n",
        "       0.74731458, 0.73104092, 0.70136358, 0.61333483, 0.612581  ,\n",
        "       0.74019483, 0.70495258, 0.710764  , 0.67479375, 0.67151   ,\n",
        "       0.53917308, 0.60905667, 0.73164208, 0.74622708, 0.77099092,\n",
        "       0.78461492, 0.74493192, 0.55059158, 0.5108015 , 0.70949625,\n",
        "       0.72306733, 0.74243617, 0.7395105 , 0.70425267, 0.59759583,\n",
        "       0.53765475, 0.69112283, 0.71013558, 0.7322345 , 0.68454375,\n",
        "       0.71541075, 0.63311367, 0.62763183, 0.72458958, 0.7407255 ,\n",
        "       0.70746842, 0.73511283, 0.73638025, 0.40569817, 0.6000925 ,\n",
        "       0.746157  , 0.75703242, 0.77078033, 0.75917058, 0.73534683,\n",
        "       0.63857442, 0.6089585 , 0.74712633, 0.78039725, 0.76168658,\n",
        "       0.7632165 , 0.74701075, 0.66460817, 0.58908817, 0.6884435 ,\n",
        "       0.70429925, 0.72678417, 0.719862  , 0.68907725, 0.56866525,\n",
        "       0.59160492, 0.71587692, 0.73039567, 0.73348967, 0.73133542,\n",
        "       0.68715033, 0.62976333, 0.57843633, 0.67935392, 0.7288665 ,\n",
        "       0.74281333, 0.71806283, 0.71451225, 0.58432733, 0.58005625,\n",
        "       0.717944  , 0.74656442, 0.74268475, 0.778816  , 0.73918375,\n",
        "       0.66600425, 0.62750533, 0.66034083, 0.75000908, 0.76748008,\n",
        "       0.747263  , 0.70081142, 0.59250992, 0.55995967, 0.68549683,\n",
        "       0.78144883, 0.77290742, 0.78929958, 0.74979708, 0.61429725,\n",
        "       0.64589842, 0.79302067, 0.71783675, 0.78354767, 0.80327058,\n",
        "       0.79693792, 0.66757583, 0.57047025, 0.65974225, 0.7194485 ,\n",
        "       0.75596   , 0.77123317, 0.75973117, 0.67769342, 0.65175275,\n",
        "       0.79981167, 0.80555217, 0.78854417, 0.78676283, 0.76620875,\n",
        "       0.648563  , 0.572627  , 0.70099758, 0.70908817, 0.73424117,\n",
        "       0.74332392, 0.74618867, 0.67863767, 0.6260635 , 0.74575475,\n",
        "       0.75681583, 0.70897125, 0.708912  , 0.73654383, 0.68537533,\n",
        "       0.66642117, 0.80847817, 0.82930558, 0.80945917, 0.809333  ,\n",
        "       0.77617975, 0.67394042, 0.63312008, 0.75671075, 0.73290833,\n",
        "       0.6688495 , 0.79879792, 0.70973742, 0.61726133, 0.56658367,\n",
        "       0.70716292, 0.73176567, 0.76936933, 0.74605067, 0.76657642,\n",
        "       0.679183  , 0.627388  , 0.8202415 , 0.80879217, 0.83910925,\n",
        "       0.80637567, 0.84419792, 0.76766567, 0.74194667, 0.80863392,\n",
        "       0.81146517, 0.80779425, 0.77455167, 0.84521417, 0.76260633,\n",
        "       0.79017342, 0.87792267, 0.85195725, 0.82162692, 0.86045483,\n",
        "       0.89541092, 0.83157867, 0.80647875, 0.92236358, 0.87897575,\n",
        "       0.88001583, 0.91669992, 0.77156308, 0.76212925, 0.78452333,\n",
        "       0.91482025, 0.9119425 , 0.84579933, 0.83380258, 0.87039267,\n",
        "       0.76956667, 0.662791  , 0.80875617, 0.84417058, 0.87358825,\n",
        "       0.85905458, 0.81298783, 0.69169642, 0.67009308, 0.7874245 ,\n",
        "       0.85447617, 0.78566508, 0.81244567, 0.75542117, 0.64030267,\n",
        "       0.64067725, 0.73547092, 0.67452258, 0.6241335 , 0.66595058,\n",
        "       0.65298817, 0.67114458, 0.67635208, 0.68490975, 0.66451275]) #Daily TWh Non-renewable Residential Energy Demand Forecast (UK, 2013)"
      ],
      "execution_count": 0,
      "outputs": []
    },
    {
      "cell_type": "code",
      "metadata": {
        "id": "ZAzBdFX8era5",
        "colab_type": "code",
        "colab": {}
      },
      "source": [
        "monthly_variances_adversity = np.array([[1.        , 0.94478474, 1.13028166, 1.01154859, 1.00642762],\n",
        "       [1.        , 0.99609853, 1.04194803, 0.97084265, 1.0388943 ],\n",
        "       [1.        , 0.98442389, 1.03894516, 0.97236052, 0.98656826],\n",
        "       [1.        , 0.99532647, 1.01406848, 0.97103307, 0.95879985],\n",
        "       [1.        , 0.95906747, 0.9790569 , 0.98020894, 1.001873  ],\n",
        "       [1.        , 0.97395693, 1.07245554, 0.98267029, 1.0256229 ],\n",
        "       [1.        , 1.01285538, 1.03548462, 0.96160257, 1.01493072],\n",
        "       [1.        , 1.0065727 , 1.02650583, 1.01668459, 1.02302871],\n",
        "       [1.        , 0.9757814 , 1.0204114 , 1.01708173, 1.01348851],\n",
        "       [1.        , 0.98057395, 1.14533756, 0.99881338, 0.99639876],\n",
        "       [1.        , 0.9270685 , 1.03921254, 1.00166209, 1.08924898],\n",
        "       [1.        , 1.03534977, 1.01707886, 1.0063885 , 1.02778647]])"
      ],
      "execution_count": 0,
      "outputs": []
    },
    {
      "cell_type": "code",
      "metadata": {
        "id": "CWvPTEQRi_QH",
        "colab_type": "code",
        "colab": {}
      },
      "source": [
        "def target(t):\n",
        "  target = (-0.00000000267168)*(t**3) + (0.0000066387)*(t**2) + (-0.0025185)*t + 0.962437\n",
        "  \n",
        "  return(target)"
      ],
      "execution_count": 0,
      "outputs": []
    },
    {
      "cell_type": "code",
      "metadata": {
        "colab_type": "code",
        "id": "HO9UwnJ_toR-",
        "colab": {}
      },
      "source": [
        "def month_for_day(timestep):\n",
        "  return math.floor(timestep/30.42)"
      ],
      "execution_count": 0,
      "outputs": []
    },
    {
      "cell_type": "code",
      "metadata": {
        "colab_type": "code",
        "id": "P9rd2Pacwivk",
        "colab": {}
      },
      "source": [
        "def month_var():\n",
        "  var = monthly_variances_adversity.min(axis=1)\n",
        "  return var"
      ],
      "execution_count": 0,
      "outputs": []
    },
    {
      "cell_type": "code",
      "metadata": {
        "colab_type": "code",
        "outputId": "d96d107d-f1ca-41ff-8349-d43b271d460a",
        "id": "7wvoRbmywivd",
        "colab": {
          "base_uri": "https://localhost:8080/",
          "height": 34
        }
      },
      "source": [
        "month_min = month_var()\n",
        "month_min[11]"
      ],
      "execution_count": 0,
      "outputs": [
        {
          "output_type": "execute_result",
          "data": {
            "text/plain": [
              "1.0"
            ]
          },
          "metadata": {
            "tags": []
          },
          "execution_count": 13
        }
      ]
    },
    {
      "cell_type": "markdown",
      "metadata": {
        "id": "zUCPig2dHimO",
        "colab_type": "text"
      },
      "source": [
        "#### Setting up the environment"
      ]
    },
    {
      "cell_type": "markdown",
      "metadata": {
        "id": "2YMjXCxsNsxw",
        "colab_type": "text"
      },
      "source": [
        "Target is to be $\\tau_t \\pm \\alpha \\%$ at any given $t$:\n",
        "\n",
        "$\\tau_t = -0.00000000267168*t^3 + 0.0000066387*t^2 + -0.0025185*t + 0.962437$"
      ]
    },
    {
      "cell_type": "code",
      "metadata": {
        "id": "TLzu4lwbJ28a",
        "colab_type": "code",
        "colab": {}
      },
      "source": [
        "def get_estimates(timestep, alpha=0.03):\n",
        "  month_t = month_for_day(timestep)\n",
        "  Yhat_t = Yhat[timestep] * monthly_variances_adversity[month_t]\n",
        "  target_t = target(timestep)\n",
        "  target_t_max = target_t * (1+alpha)\n",
        "  target_t_min = target_t * (1-alpha)\n",
        "  return Yhat_t, target_t_max, target_t_min"
      ],
      "execution_count": 0,
      "outputs": []
    },
    {
      "cell_type": "code",
      "metadata": {
        "id": "IZtbds32tqZH",
        "colab_type": "code",
        "colab": {}
      },
      "source": [
        "def best_action_for_day(timestep, bounded=0, alpha=0.03):\n",
        "  Yhat_t, target_t_max, target_t_min = get_estimates(timestep, alpha)\n",
        "  if bounded==0: #Upper and Lower Bounded\n",
        "    in_target = np.where((Yhat_t > target_t_min) & (Yhat_t <= target_t_max))\n",
        "  elif bounded==1: #Upper Bounded Only\n",
        "    in_target = np.where((Yhat_t <= target_t_max))\n",
        "  else: #Lower Bounded Only\n",
        "    in_target = np.where((Yhat_t > target_t_min))\n",
        "  if len(in_target[0]) > 0:\n",
        "    if bounded <= 0: #For all except upper bounded\n",
        "      min_in_target = Yhat_t[in_target].min()\n",
        "      return np.where(Yhat_t == min_in_target)[0][0], min_in_target\n",
        "    else:\n",
        "      max_in_target = Yhat_t[in_target].min()\n",
        "      return np.where(Yhat_t == max_in_target)[0][0], max_in_target\n",
        "  else:\n",
        "    return False, Yhat[timestep]"
      ],
      "execution_count": 0,
      "outputs": []
    },
    {
      "cell_type": "code",
      "metadata": {
        "id": "YeTdb6ZhHWdF",
        "colab_type": "code",
        "colab": {}
      },
      "source": [
        "def best_action_for_day_bounded(timestep, alpha=0.03):\n",
        "  next_action, expected_demand = best_action_for_day(timestep, 0) #Both Upper and Lower Bounded\n",
        "  if next_action != False:\n",
        "    next_outcome = OUTCOME_ON_TARGET\n",
        "  else:\n",
        "    next_action, expected_demand = best_action_for_day(timestep, 1) #Only Upper Bounded\n",
        "    if next_action != False:\n",
        "      #Below Target Zone\n",
        "      next_outcome = OUTCOME_BELOW_TARGET\n",
        "    else:\n",
        "      #Above Target Zone \n",
        "      next_outcome = OUTCOME_ABOVE_TARGET \n",
        "      next_action, expected_demand = best_action_for_day(timestep, -1)\n",
        "      if next_action == False:\n",
        "        next_action = ACTION_NORMAL\n",
        "  return next_action, next_outcome, expected_demand"
      ],
      "execution_count": 0,
      "outputs": []
    },
    {
      "cell_type": "code",
      "metadata": {
        "id": "mcIdYUMjKnaC",
        "colab_type": "code",
        "colab": {}
      },
      "source": [
        "Yhat_t, target_t_max, target_t_min = get_estimates(10)"
      ],
      "execution_count": 0,
      "outputs": []
    },
    {
      "cell_type": "code",
      "metadata": {
        "id": "naaaBSIFKqIb",
        "colab_type": "code",
        "outputId": "1fafe273-af73-4e35-be36-fa438d73c32f",
        "colab": {
          "base_uri": "https://localhost:8080/",
          "height": 34
        }
      },
      "source": [
        "Yhat_t[0]"
      ],
      "execution_count": 0,
      "outputs": [
        {
          "output_type": "execute_result",
          "data": {
            "text/plain": [
              "0.96322383"
            ]
          },
          "metadata": {
            "tags": []
          },
          "execution_count": 18
        }
      ]
    },
    {
      "cell_type": "code",
      "metadata": {
        "id": "KhgiOp_92vlS",
        "colab_type": "code",
        "outputId": "3b84b78d-c33f-408a-b95f-d7e8b3532b2e",
        "colab": {
          "base_uri": "https://localhost:8080/",
          "height": 34
        }
      },
      "source": [
        "print(best_action_for_day(10))"
      ],
      "execution_count": 0,
      "outputs": [
        {
          "output_type": "stream",
          "text": [
            "(1, 0.9100391757883542)\n"
          ],
          "name": "stdout"
        }
      ]
    },
    {
      "cell_type": "code",
      "metadata": {
        "id": "eQU6l6jHr3oS",
        "colab_type": "code",
        "colab": {}
      },
      "source": [
        "# Step function that describes how the next state is obtained from the current state and the action \n",
        "# taken. The function returns the next state and the reward obtained.\n",
        "def step(state, action):\n",
        "    outcome, timestep = state\n",
        "\n",
        "    #Reward for action previously taken and the state\n",
        "    Yhat_t, target_t_max, target_t_min = get_estimates(timestep)\n",
        "    if outcome == OUTCOME_ON_TARGET:\n",
        "      reward = 0\n",
        "    elif outcome == OUTCOME_BELOW_TARGET:\n",
        "      reward = abs(target_t_min - Yhat_t[action]) * -0.5\n",
        "    else:\n",
        "      reward = abs(Yhat_t[action] - target_t_max) * -1\n",
        "\n",
        "    timestep += 1\n",
        "    next_state = [outcome, timestep]\n",
        "    return next_state, reward"
      ],
      "execution_count": 0,
      "outputs": []
    },
    {
      "cell_type": "markdown",
      "metadata": {
        "id": "wibqyGtCHimY",
        "colab_type": "text"
      },
      "source": [
        "#### Set up the agent's action"
      ]
    },
    {
      "cell_type": "code",
      "metadata": {
        "id": "VUfbg4b3HimY",
        "colab_type": "code",
        "colab": {}
      },
      "source": [
        "# Choose an action based on epsilon greedy algorithm\n",
        "def choose_action(state, q_value, eps=EPSILON):\n",
        "    outcome, timestep = state\n",
        "    if np.random.binomial(1, eps) == 1:\n",
        "        next_action = np.random.choice(ACTIONS)\n",
        "        Yhat_t, target_t_max, target_t_min = get_estimates(timestep)\n",
        "        if Yhat_t[next_action] >= target_t_max:\n",
        "          next_outcome = OUTCOME_ABOVE_TARGET\n",
        "        elif Yhat_t[next_action] < target_t_max:\n",
        "          next_outcome = OUTCOME_BELOW_TARGET\n",
        "        else:\n",
        "          next_outcome = OUTCOME_ON_TARGET\n",
        "    else:\n",
        "        values_ = q_value[state[0], state[1], :]\n",
        "        next_action, next_outcome, _ = best_action_for_day_bounded(timestep)\n",
        "        #next_action = np.random.choice([action_ for action_, value_ in enumerate(values_) if value_ == np.max(values_)])\n",
        "    \n",
        "    next_state = [next_outcome, timestep]\n",
        "    return next_state, next_action\n",
        "    "
      ],
      "execution_count": 0,
      "outputs": []
    },
    {
      "cell_type": "code",
      "metadata": {
        "id": "SngYjlPXHima",
        "colab_type": "code",
        "outputId": "48e928a3-a1f9-48b1-cff8-0ccbed6bd2fd",
        "colab": {
          "base_uri": "https://localhost:8080/",
          "height": 34
        }
      },
      "source": [
        "#Check soeme of the actions\n",
        "q_value = np.zeros((WORLD_HEIGHT, WORLD_WIDTH, len(ACTIONS)))\n",
        "choose_action([0, 10], q_value, EPSILON)"
      ],
      "execution_count": 0,
      "outputs": [
        {
          "output_type": "execute_result",
          "data": {
            "text/plain": [
              "([0, 10], 1)"
            ]
          },
          "metadata": {
            "tags": []
          },
          "execution_count": 22
        }
      ]
    },
    {
      "cell_type": "markdown",
      "metadata": {
        "id": "fwLwyzJmHimc",
        "colab_type": "text"
      },
      "source": [
        "#### Set up the learning algorithms"
      ]
    },
    {
      "cell_type": "markdown",
      "metadata": {
        "id": "JSm53QHrHimd",
        "colab_type": "text"
      },
      "source": [
        "##### Sarsa and Expected Sarsa"
      ]
    },
    {
      "cell_type": "code",
      "metadata": {
        "id": "XJczceNrHime",
        "colab_type": "code",
        "colab": {}
      },
      "source": [
        "# An episode with Sarsa\n",
        "# @q_value: values for state action pair, will be updated\n",
        "# @expected: if True, will use expected Sarsa algorithm\n",
        "# @step_size: step size for updating\n",
        "# @return: total rewards within this episode\n",
        "def sarsa(q_value, expected=False, step_size=ALPHA, eps=EPSILON):\n",
        "    state = START\n",
        "    _, action = choose_action(state, q_value, eps)\n",
        "    #print(\"%s\\t%s \" % (state, action))\n",
        "    rewards = 0.0\n",
        "#     print('In sarsa: action = ', action)\n",
        "    while (state[1] != WORLD_WIDTH-1): #why not start with one  and not(1 <= state[1] <= 10 and state[0]==0)\n",
        "        next_state, reward = step(state, action)\n",
        "        next_state, next_action = choose_action(next_state, q_value, eps)\n",
        "        #print(\"%s\\t%s\\t%s \" % (next_state, next_action, reward))\n",
        "        rewards += reward\n",
        "        if not expected:\n",
        "            target = q_value[next_state[0], next_state[1], next_action]\n",
        "        else:\n",
        "            # calculate the expected value of new state\n",
        "            target = 0.0\n",
        "            q_next = q_value[next_state[0], next_state[1], :]\n",
        "            best_actions = np.argwhere(q_next == np.max(q_next))\n",
        "            for action_ in ACTIONS:\n",
        "                if action_ in best_actions:\n",
        "                    target += ((1.0 - eps) / len(best_actions) \n",
        "                               + eps / len(ACTIONS)) * q_value[next_state[0], next_state[1], action_]\n",
        "                else:\n",
        "                    target += eps / len(ACTIONS) * q_value[next_state[0], next_state[1], action_]\n",
        "        target *= GAMMA\n",
        "        q_value[state[0], state[1], action] += step_size * (\n",
        "                reward + target - q_value[state[0], state[1], action])\n",
        "        state = next_state\n",
        "        action = next_action\n",
        "    return rewards"
      ],
      "execution_count": 0,
      "outputs": []
    },
    {
      "cell_type": "markdown",
      "metadata": {
        "id": "oBop2oU5Himg",
        "colab_type": "text"
      },
      "source": [
        "##### Q-learning"
      ]
    },
    {
      "cell_type": "code",
      "metadata": {
        "id": "1Sbz7N7xHimh",
        "colab_type": "code",
        "colab": {}
      },
      "source": [
        "# An episode with Q-Learning\n",
        "# @q_value: values for state action pair, will be updated\n",
        "# @step_size: step size for updating\n",
        "# @return: total rewards within this episode\n",
        "def q_learning(q_value, step_size=ALPHA, eps=EPSILON):\n",
        "    state = START\n",
        "    rewards = 0.0\n",
        "    while state[1] != WORLD_WIDTH-1: # and not(1 <= state[1] <= 10 and state[0]==0)\n",
        "        #action = choose_action(state, q_value, eps)\n",
        "        next_state, action = choose_action(state, q_value, eps)\n",
        "        #next_state, action = choose_action(next_state, q_value, eps)\n",
        "        next_state, reward = step(next_state, action)\n",
        "        #print(\"%s\\t%s\\t%s \" % (state, action, reward))\n",
        "        rewards += reward\n",
        "        # Q-Learning update\n",
        "        q_value[state[0], state[1], action] += step_size * (\n",
        "                reward + GAMMA * np.max(q_value[next_state[0], next_state[1], :]) -\n",
        "                q_value[state[0], state[1], action])\n",
        "        state = next_state\n",
        "    return rewards\n"
      ],
      "execution_count": 0,
      "outputs": []
    },
    {
      "cell_type": "markdown",
      "metadata": {
        "id": "ORP-WCD7Himj",
        "colab_type": "text"
      },
      "source": [
        "##### Printing output of the learned policy"
      ]
    },
    {
      "cell_type": "code",
      "metadata": {
        "id": "mV52TSDxHimk",
        "colab_type": "code",
        "colab": {}
      },
      "source": [
        "# Print optimal policy\n",
        "def print_optimal_policy(q_value):\n",
        "    optimal_policy = []\n",
        "    for i in range(WORLD_HEIGHT-1, -1, -1):\n",
        "        optimal_policy.append([])\n",
        "        for j in range(0, WORLD_WIDTH):\n",
        "            bestAction = np.argmax(q_value[i, j, :])\n",
        "            \n",
        "            if bestAction == ACTION_NORMAL_HIGH:\n",
        "                optimal_policy[-1].append('N+')\n",
        "            elif bestAction == ACTION_NORMAL_LOW:\n",
        "                optimal_policy[-1].append('N-')\n",
        "            elif bestAction == ACTION_HIGH_HIGH:\n",
        "                optimal_policy[-1].append('H+')\n",
        "            elif bestAction == ACTION_HIGH_LOW:\n",
        "                optimal_policy[-1].append('H-')\n",
        "            elif bestAction == ACTION_NORMAL:\n",
        "                optimal_policy[-1].append('==')     \n",
        "            \n",
        "    for row in optimal_policy:\n",
        "        print(row)"
      ],
      "execution_count": 0,
      "outputs": []
    },
    {
      "cell_type": "markdown",
      "metadata": {
        "id": "_qv1yMU3Himm",
        "colab_type": "text"
      },
      "source": [
        "#### Set up the epsilon decay"
      ]
    },
    {
      "cell_type": "markdown",
      "metadata": {
        "id": "9R4sHWvXHimn",
        "colab_type": "text"
      },
      "source": [
        "- We will use the decreasing epsison when increasing episode\n",
        "- The epsilon should strives to zero in order for the q-value function to converge to the optimal q-value function in SARSA algorithm\n",
        "- The following figure demonstrates the exponetial decay we are going to use"
      ]
    },
    {
      "cell_type": "code",
      "metadata": {
        "id": "gi9ycbi2Himo",
        "colab_type": "code",
        "outputId": "fdbf607a-e48c-4add-bbb3-95c4250f04ce",
        "colab": {
          "base_uri": "https://localhost:8080/",
          "height": 296
        }
      },
      "source": [
        "plt.plot([ EPSILON*((1-EPSILON)**(i//40)) for i in range(2000)])\n",
        "plt.xlabel('Episode')\n",
        "plt.ylabel('Epsilone')"
      ],
      "execution_count": 0,
      "outputs": [
        {
          "output_type": "execute_result",
          "data": {
            "text/plain": [
              "Text(0, 0.5, 'Epsilone')"
            ]
          },
          "metadata": {
            "tags": []
          },
          "execution_count": 26
        },
        {
          "output_type": "display_data",
          "data": {
            "image/png": "[encoded data removed]",
            "text/plain": [
              "<Figure size 432x288 with 1 Axes>"
            ]
          },
          "metadata": {
            "tags": []
          }
        }
      ]
    },
    {
      "cell_type": "markdown",
      "metadata": {
        "id": "FhFV6s9YHimq",
        "colab_type": "text"
      },
      "source": [
        "### Running Sarsa and Q-learning "
      ]
    },
    {
      "cell_type": "code",
      "metadata": {
        "id": "sz4VERu0Himq",
        "colab_type": "code",
        "colab": {}
      },
      "source": [
        "# Use multiple runs instead of a single run and a sliding window\n",
        "# With a single run I failed to present a smooth curve\n",
        "# However the optimal policy converges well with a single run\n",
        "# Sarsa converges to the safe path, while Q-Learning converges to the optimal path\n",
        "def compare_rl():\n",
        "    # episodes of each run\n",
        "    episodes = 5000 #2000\n",
        "    EPOCH = 40\n",
        "\n",
        "    # perform 100 independent runs\n",
        "    runs = 10 #100\n",
        "\n",
        "    rewards_sarsa = np.zeros(episodes)\n",
        "    rewards_q_learning = np.zeros(episodes)\n",
        "    for r in tqdm(range(runs)):\n",
        "        q_sarsa = np.zeros((WORLD_HEIGHT, WORLD_WIDTH, len(ACTIONS)))\n",
        "        q_q_learning = np.copy(q_sarsa)\n",
        "        for i in range(0, episodes):\n",
        "            eps = EPSILON*((1-EPSILON)**(i//EPOCH))\n",
        "            rewards_sarsa[i] += sarsa(q_sarsa,eps=eps)\n",
        "            rewards_q_learning[i] += q_learning(q_q_learning, eps=eps)\n",
        "\n",
        "    # averaging over independt runs\n",
        "    rewards_sarsa /= runs\n",
        "    rewards_q_learning /= runs\n",
        "\n",
        "    # draw reward curves\n",
        "    #print(\"[[%s]]\" % rewards_sarsa)\n",
        "    plt.plot(rewards_sarsa, label='Sarsa')\n",
        "    plt.plot(rewards_q_learning, label='Q-Learning')\n",
        "    plt.xlabel('Episodes')\n",
        "    plt.ylabel('Sum of rewards during episode')\n",
        "    #plt.ylim([-1, 0])\n",
        "    plt.legend()\n",
        "#     Uncomment to save the figures\n",
        "#     plt.savefig('../images/figure_6_4.png')\n",
        "#     plt.close()\n",
        "\n",
        "    # display optimal policy\n",
        "    #print('Sarsa Optimal Policy:')\n",
        "    #print_optimal_policy(q_sarsa)\n",
        "    #print('Q-Learning Optimal Policy:')\n",
        "    #print_optimal_policy(q_q_learning)\n",
        "    return q_sarsa, q_q_learning"
      ],
      "execution_count": 0,
      "outputs": []
    },
    {
      "cell_type": "markdown",
      "metadata": {
        "id": "edvZ0E7aHimx",
        "colab_type": "text"
      },
      "source": [
        "#### Start the runs"
      ]
    },
    {
      "cell_type": "code",
      "metadata": {
        "scrolled": false,
        "id": "_WNgZKsCHimy",
        "colab_type": "code",
        "outputId": "95d0a4d8-de76-4e7c-fa7d-e8379eec19a6",
        "colab": {
          "base_uri": "https://localhost:8080/",
          "height": 296
        }
      },
      "source": [
        "q_sarsa, q_q_learning = compare_rl()\n",
        "plt.show()"
      ],
      "execution_count": 0,
      "outputs": [
        {
          "output_type": "stream",
          "text": [
            "100%|██████████| 10/10 [22:04<00:00, 133.15s/it]\n"
          ],
          "name": "stderr"
        },
        {
          "output_type": "display_data",
          "data": {
            "image/png": "[encoded data removed]",
            "text/plain": [
              "<Figure size 432x288 with 1 Axes>"
            ]
          },
          "metadata": {
            "tags": []
          }
        }
      ]
    }
  ]
}